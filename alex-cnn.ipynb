{
 "cells": [
  {
   "cell_type": "code",
   "execution_count": 1,
   "metadata": {},
   "outputs": [],
   "source": [
    "import torch\n",
    "import torch.nn as nn\n",
    "import torch.optim as optim\n",
    "from torch.utils.data import DataLoader\n",
    "from torchvision import datasets, transforms\n",
    "import torchvision.models as models\n",
    "\n",
    "# Set device\n",
    "device = torch.device(\"cuda\" if torch.cuda.is_available() else \"cpu\")\n",
    "\n",
    "# Define transformations\n",
    "transform = transforms.Compose([\n",
    "    transforms.Resize((224, 224)),\n",
    "    transforms.ToTensor(),\n",
    "    transforms.Normalize(mean=[0.485, 0.456, 0.406], std=[0.229, 0.224, 0.225])\n",
    "])\n",
    "\n",
    "# Load datasets\n",
    "train_data = datasets.ImageFolder('da/images/train', transform=transform)\n",
    "val_data = datasets.ImageFolder('da/images/val', transform=transform)\n",
    "\n",
    "# Create data loaders\n",
    "train_loader = DataLoader(train_data, batch_size=64, shuffle=True)\n",
    "val_loader = DataLoader(val_data, batch_size=64)\n",
    "\n",
    "# Define AlexNet\n",
    "model = models.alexnet(weights='AlexNet_Weights.DEFAULT')\n",
    "num_ftrs = model.classifier[6].in_features\n",
    "model.classifier[6] = nn.Linear(num_ftrs, 2)  # 2 classes: normal and pneumonia\n",
    "model = model.to(device)\n",
    "\n",
    "# Define loss function and optimizer\n",
    "criterion = nn.CrossEntropyLoss()\n",
    "optimizer = optim.SGD(model.parameters(), lr=0.001, momentum=0.9)"
   ]
  },
  {
   "cell_type": "code",
   "execution_count": 2,
   "metadata": {},
   "outputs": [
    {
     "name": "stdout",
     "output_type": "stream",
     "text": [
      "Epoch 1/25, Loss: 0.542021114230156\n",
      "Epoch 2/25, Loss: 0.4628302589058876\n",
      "Epoch 3/25, Loss: 0.4357836216688156\n",
      "Epoch 4/25, Loss: 0.42069445714354514\n",
      "Epoch 5/25, Loss: 0.40420722037553786\n",
      "Epoch 6/25, Loss: 0.3865345712006092\n",
      "Epoch 7/25, Loss: 0.37157567739486697\n",
      "Epoch 8/25, Loss: 0.3636331923305988\n",
      "Epoch 9/25, Loss: 0.3520447562634945\n",
      "Epoch 10/25, Loss: 0.3302772767841816\n",
      "Epoch 11/25, Loss: 0.3166525182127953\n",
      "Epoch 12/25, Loss: 0.3000302381813526\n",
      "Epoch 13/25, Loss: 0.2759896965324879\n",
      "Epoch 14/25, Loss: 0.26686863899230956\n",
      "Epoch 15/25, Loss: 0.2465308404713869\n",
      "Epoch 16/25, Loss: 0.22688486926257612\n",
      "Epoch 17/25, Loss: 0.2062791299074888\n",
      "Epoch 18/25, Loss: 0.19190244555473326\n",
      "Epoch 19/25, Loss: 0.16348863303661346\n",
      "Epoch 20/25, Loss: 0.16293494068086148\n",
      "Epoch 21/25, Loss: 0.11654743369668723\n",
      "Epoch 22/25, Loss: 0.11299249716103077\n",
      "Epoch 23/25, Loss: 0.12006410330533981\n",
      "Epoch 24/25, Loss: 0.08016463853418827\n",
      "Epoch 25/25, Loss: 0.08325706865638495\n"
     ]
    }
   ],
   "source": [
    "# Training loop\n",
    "num_epochs = 25\n",
    "for epoch in range(num_epochs):\n",
    "    model.train()\n",
    "    running_loss = 0.0\n",
    "    for inputs, labels in train_loader:\n",
    "        inputs, labels = inputs.to(device), labels.to(device)\n",
    "        optimizer.zero_grad()\n",
    "        outputs = model(inputs)\n",
    "        loss = criterion(outputs, labels)\n",
    "        loss.backward()\n",
    "        optimizer.step()\n",
    "        running_loss += loss.item() * inputs.size(0)\n",
    "    epoch_loss = running_loss / len(train_loader.dataset)\n",
    "    print(f\"Epoch {epoch+1}/{num_epochs}, Loss: {epoch_loss}\")"
   ]
  },
  {
   "cell_type": "code",
   "execution_count": 3,
   "metadata": {},
   "outputs": [
    {
     "data": {
      "text/plain": [
       "<All keys matched successfully>"
      ]
     },
     "execution_count": 3,
     "metadata": {},
     "output_type": "execute_result"
    }
   ],
   "source": [
    "torch.save(model.state_dict(), 'mo/alex.pth')\n",
    "model.load_state_dict(torch.load('mo/alex.pth'))"
   ]
  },
  {
   "cell_type": "code",
   "execution_count": 4,
   "metadata": {},
   "outputs": [
    {
     "name": "stdout",
     "output_type": "stream",
     "text": [
      "Accuracy: 82.7500\n",
      "Confusion Matrix:\n",
      "[[604 196]\n",
      " [ 80 720]]\n",
      "Recall: 90.0000\n",
      "Precision: 78.6026\n",
      "F1 Score: 83.9161\n"
     ]
    }
   ],
   "source": [
    "import torch\n",
    "import torch.nn as nn\n",
    "from sklearn.metrics import accuracy_score, confusion_matrix, recall_score, precision_score, f1_score\n",
    "\n",
    "# Evaluation\n",
    "model.eval()\n",
    "y_true = []\n",
    "y_pred = []\n",
    "with torch.no_grad():\n",
    "    for inputs, labels in val_loader:\n",
    "        inputs, labels = inputs.to(device), labels.to(device)\n",
    "        outputs = model(inputs)\n",
    "        _, predicted = torch.max(outputs, 1)\n",
    "        y_true.extend(labels.cpu().numpy())\n",
    "        y_pred.extend(predicted.cpu().numpy())\n",
    "\n",
    "# Calculate evaluation metrics\n",
    "accuracy = accuracy_score(y_true, y_pred)\n",
    "print(f'Accuracy: {accuracy*100:.4f}')\n",
    "\n",
    "conf_matrix = confusion_matrix(y_true, y_pred)\n",
    "print('Confusion Matrix:')\n",
    "print(conf_matrix)\n",
    "\n",
    "recall = recall_score(y_true, y_pred)\n",
    "print(f'Recall: {recall*100:.4f}')\n",
    "\n",
    "precision = precision_score(y_true, y_pred)\n",
    "print(f'Precision: {precision*100:.4f}')\n",
    "\n",
    "f1 = f1_score(y_true, y_pred)\n",
    "print(f'F1 Score: {f1*100:.4f}')"
   ]
  },
  {
   "cell_type": "code",
   "execution_count": null,
   "metadata": {},
   "outputs": [],
   "source": []
  }
 ],
 "metadata": {
  "kernelspec": {
   "display_name": "Python 3",
   "language": "python",
   "name": "python3"
  },
  "language_info": {
   "codemirror_mode": {
    "name": "ipython",
    "version": 3
   },
   "file_extension": ".py",
   "mimetype": "text/x-python",
   "name": "python",
   "nbconvert_exporter": "python",
   "pygments_lexer": "ipython3",
   "version": "3.10.0"
  }
 },
 "nbformat": 4,
 "nbformat_minor": 2
}
